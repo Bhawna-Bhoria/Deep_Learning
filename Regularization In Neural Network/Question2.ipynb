{
  "nbformat": 4,
  "nbformat_minor": 0,
  "metadata": {
    "colab": {
      "provenance": []
    },
    "kernelspec": {
      "name": "python3",
      "display_name": "Python 3"
    },
    "language_info": {
      "name": "python"
    }
  },
  "cells": [
    {
      "cell_type": "code",
      "execution_count": 3,
      "metadata": {
        "id": "CDeKCPJ0_mD3"
      },
      "outputs": [],
      "source": [
        "#@title Importing the libraries\n",
        "import torch\n",
        "import torch.nn as nn\n",
        "import torchvision\n",
        "import torchvision.transforms as transforms\n",
        "import matplotlib.pyplot as plt\n",
        "device = torch.device('cpu')\n",
        "import numpy as np\n",
        "device = torch.device('cuda' if torch.cuda.is_available() else 'cpu')\n"
      ]
    },
    {
      "cell_type": "code",
      "source": [
        "from google.colab import drive\n",
        "drive.mount('/content/gdrive')\n",
        "# corpus = os.path.join(\"14ksNbln0Dcu86RokQ9T75c60_892Z8M8\", GurNum-20230129T090104Z-001)\n",
        "train_dataset_path= '/content/gdrive/MyDrive/Gurmukhi/train'\n",
        "test_dataset_path= '/content/gdrive/MyDrive/Gurmukhi/val'\n"
      ],
      "metadata": {
        "colab": {
          "base_uri": "https://localhost:8080/"
        },
        "id": "_PbSSgvCAjpI",
        "outputId": "5c6b374c-5557-48d2-d2ca-715e52130336"
      },
      "execution_count": 4,
      "outputs": [
        {
          "output_type": "stream",
          "name": "stdout",
          "text": [
            "Drive already mounted at /content/gdrive; to attempt to forcibly remount, call drive.mount(\"/content/gdrive\", force_remount=True).\n"
          ]
        }
      ]
    },
    {
      "cell_type": "code",
      "source": [
        "#@title \n",
        "variable_name = \"\"\n",
        "input_size = 1024 #32*32 \n",
        "hidden_size = 10\n",
        "num_classes= 10\n",
        "num_epochs = 5\n",
        "learning_rate = 0.01\n",
        "criterion = nn.CrossEntropyLoss()\n",
        "#trans = transforms.Grayscale()\n",
        "transform = transforms.Compose([transforms.Grayscale(num_output_channels=1), transforms.ToTensor(),\n",
        "                    transforms.Normalize(mean=[0.5], std=[0.5])])\n",
        "train_dataset = torchvision.datasets.ImageFolder(root=train_dataset_path ,\n",
        "                                             transform=transform)\n",
        "test_dataset = torchvision.datasets.ImageFolder(root=test_dataset_path,\n",
        "                                            transform=transform)\n",
        "\n",
        "train_loader = torch.utils.data.DataLoader(dataset=train_dataset,batch_size= batch_size,\n",
        "                                          shuffle=True)\n",
        "test_loader = torch.utils.data.DataLoader(dataset=test_dataset, batch_size = batch_size,\n",
        "                                          shuffle=False)\n",
        "samples, labels = next(iter(train_loader))\n",
        "print(samples.shape, labels.shape, type(samples))\n",
        "for i in range(6):\n",
        "  plt.subplot(2,3,i+1)\n",
        "  plt.imshow(samples[i][0])\n",
        "  plt.show\n",
        "\n",
        "# train_size = len(train_dataset)\n",
        "# #print(train_size)\n",
        "# num_batches = (train_size//batch_size)+1\n",
        "# #print(num_batches)"
      ],
      "metadata": {
        "colab": {
          "base_uri": "https://localhost:8080/",
          "height": 285
        },
        "id": "MNgsPqCz_uNO",
        "outputId": "1c84fe8e-98f2-4c8e-bc81-a9861d853684"
      },
      "execution_count": 8,
      "outputs": [
        {
          "output_type": "stream",
          "name": "stdout",
          "text": [
            "torch.Size([1000, 1, 32, 32]) torch.Size([1000]) <class 'torch.Tensor'>\n"
          ]
        },
        {
          "output_type": "display_data",
          "data": {
            "text/plain": [
              "<Figure size 432x288 with 6 Axes>"
            ],
            "image/png": "[encoded data removed]"
          },
          "metadata": {
            "needs_background": "light"
          }
        }
      ]
    },
    {
      "cell_type": "code",
      "source": [
        "batch_size = 16\n",
        "train_size = len(train_dataset)\n",
        "num_batches = (train_size//batch_size)+1\n",
        "#define leanrning while calling\n",
        "def train_method(model,lr,regularisation):\n",
        "  train_loss, correct,aterm = 0, 0, 0\n",
        "  for i,(images,labels) in enumerate(train_loader):\n",
        "    #images = trans(images)\n",
        "    images = images.reshape(-1, 32*32).to(device)\n",
        "    labels = labels.to(device)\n",
        "    optimizer = torch.optim.SGD(model.parameters(), lr)\n",
        "    #forward\n",
        "    outputs = model(images)\n",
        "    loss =  criterion(outputs, labels)\n",
        "    # test_loss += loss.item()\n",
        "    correct += ((outputs.argmax(1) == labels).type(torch.float).sum().item()/batch_size)\n",
        "    \n",
        "    #backward\n",
        "    optimizer.zero_grad()\n",
        "    loss.backward()\n",
        "    # for j in model.parameters():\n",
        "    #   print(j.grad)\n",
        "    if regularisation== \"L1\":\n",
        "      norm_l3=torch.norm(model.l5.weight).item()\n",
        "      norm_l1=torch.norm(model.l1.weight).item()\n",
        "      norm_l2=torch.norm(model.l2.weight).item()\n",
        "      temp=norm_l3+norm_l1+norm_l2\n",
        "      aterm+=(temp)\n",
        "    if regularisation== \"L2\":\n",
        "      norm_l1=torch.norm(model.l1.weight).item()**2\n",
        "      norm_l2=torch.norm(model.l2.weight).item()**2\n",
        "      norm_l3=torch.norm(model.l3.weight).item()**2\n",
        "      norm_l4=torch.norm(model.l3.weight).item()**2\n",
        "      norm_l5=torch.norm(model.l3.weight).item()**2\n",
        "      temp=norm_l3+norm_l1+norm_l2+norm_l4+norm_l5\n",
        "      aterm+=(temp)\n",
        "    loss=loss+aterm*0.01\n",
        "    train_loss += loss.item()\n",
        "    optimizer.step()\n",
        "    # if (i+1)%100 == 0:\n",
        "    #   print(f\"Batch Number: {i+1} , Test Error: \\n Accuracy: {(correct/train_size)*100:>0.1f}%, Avg loss: {(test_loss/num_batches)*100:>8f} \\n\")\n",
        "    # if (i+1)%(50000/batch_size) == 0:\n",
        "    #   print(f\"epoch {epoch+1}/{num_epochs}, step {i+1}/{n_total_steps},loss = {loss.item():.4f}\")\n",
        "    #   loss_val.append(loss.item())\n",
        "  \n",
        "  #print(f\" batch is {i}, total loss is {test_loss}\")\n",
        "  # print(f\" batch is {i}, total accuracy is {accuracy}\")\n",
        "  train_loss /= num_batches\n",
        "  correct /= num_batches\n",
        "  return correct, train_loss\n",
        "\n",
        "def test_method(model):\n",
        "  n_correct = 0\n",
        "  n_samples = 0\n",
        "  test_loss = 0\n",
        "  model.eval()\n",
        "  with torch.no_grad():\n",
        "    for images, labels in test_loader:\n",
        "      #images = trans(images)\n",
        "      images = images.reshape(-1, 32*32).to(device)\n",
        "      labels = labels.to(device)\n",
        "      outputs = model(images)\n",
        "      loss = criterion(outputs, labels)\n",
        "      test_loss += loss.item()\n",
        "      # print(f\"outputs are : {outputs}\")\n",
        "      # print(f\"labels are : {labels}\")\n",
        "      #value, index\n",
        "      _, predictions = torch.max(outputs,1)\n",
        "      n_samples += labels.shape[0]\n",
        "      n_correct += (predictions == labels).sum().item()\n",
        "  test_loss /= num_batches\n",
        "  acc = 100.0 * n_correct / n_samples\n",
        "  print(f'test accuracy = {acc}')\n",
        "  return acc, loss"
      ],
      "metadata": {
        "id": "1MYi5bIi_uVv"
      },
      "execution_count": 53,
      "outputs": []
    },
    {
      "cell_type": "code",
      "source": [
        "num_epochs = 25\n",
        "loss_val = []\n",
        "x_line = []\n",
        "class Relu_5(nn.Module):\n",
        "  def __init__(self, input_size, hidden_size, num_classes):\n",
        "    super(Relu_5, self).__init__()\n",
        "    self.l1 = nn.Linear(input_size, hidden_size)\n",
        "    self.relu = nn.ReLU()\n",
        "    self.l2 = nn.Linear(hidden_size,hidden_size)\n",
        "    self.l3 = nn.Linear(hidden_size,hidden_size)\n",
        "    self.l4 = nn.Linear(hidden_size,hidden_size)\n",
        "    #self.softmax = nn.Softmax(dim=1)\n",
        "    self.l5 = nn.Linear(hidden_size, num_classes)\n",
        "  def forward(self , x):\n",
        "    out = self.l1(x)\n",
        "    out = self.relu(out)\n",
        "    out = self.l2(out)\n",
        "    out = self.relu(out)\n",
        "    out = self.l3(out)\n",
        "    out = self.relu(out)\n",
        "    out = self.l4(out)\n",
        "    out = self.relu(out)\n",
        "    out = self.l5(out)\n",
        "    return out\n",
        "\n",
        "model_relu_5_l1 = Relu_5(input_size, hidden_size, num_classes).to(device)\n",
        "model_relu_5_l2 = Relu_5(input_size, hidden_size, num_classes).to(device)\n",
        "\n",
        "for epoch in range(num_epochs):\n",
        "  print(f\"epoch is {epoch+1}\")\n",
        "  accuracy, loss = train_method(model_relu_5_l1,0.2,\"L1\")\n",
        "  print(f\" loss is {loss*100:.3f}\")\n",
        "  loss_val.append(loss)\n",
        "my_xticks = []\n",
        "for i in range(len(loss_val)):\n",
        "  my_xticks.append(i+1)\n",
        "print(my_xticks)\n",
        "plt.figure(1,dpi=120)\n",
        "plt.title(\"5 Layer Network with Relu Activation\")\n",
        "plt.xlabel(\"epoch\")\n",
        "plt.ylabel(\"loss\")\n",
        "plt.xscale(\"linear\")\n",
        "plt.yscale(\"linear\")\n",
        "x = np.array(np.arange(0, len(my_xticks), 1))\n",
        "plt.xticks(x, my_xticks)\n",
        "plt.plot(my_xticks,loss_val)"
      ],
      "metadata": {
        "colab": {
          "base_uri": "https://localhost:8080/",
          "height": 1000
        },
        "id": "P5GOxckT_uYx",
        "outputId": "acb6f0a1-5ebe-417b-b979-ef1f21885aa6"
      },
      "execution_count": 63,
      "outputs": [
        {
          "output_type": "stream",
          "name": "stdout",
          "text": [
            "epoch is 1\n",
            " loss is 3.784\n",
            "epoch is 2\n",
            " loss is 3.781\n",
            "epoch is 3\n",
            " loss is 3.778\n",
            "epoch is 4\n",
            " loss is 3.776\n",
            "epoch is 5\n",
            " loss is 3.773\n",
            "epoch is 6\n",
            " loss is 3.770\n",
            "epoch is 7\n",
            " loss is 3.767\n",
            "epoch is 8\n",
            " loss is 3.764\n",
            "epoch is 9\n",
            " loss is 3.761\n",
            "epoch is 10\n",
            " loss is 3.759\n",
            "epoch is 11\n",
            " loss is 3.756\n",
            "epoch is 12\n",
            " loss is 3.754\n",
            "epoch is 13\n",
            " loss is 3.751\n",
            "epoch is 14\n",
            " loss is 3.749\n",
            "epoch is 15\n",
            " loss is 3.746\n",
            "epoch is 16\n",
            " loss is 3.744\n",
            "epoch is 17\n",
            " loss is 3.741\n",
            "epoch is 18\n",
            " loss is 3.738\n",
            "epoch is 19\n",
            " loss is 3.734\n",
            "epoch is 20\n",
            " loss is 3.731\n",
            "epoch is 21\n",
            " loss is 3.728\n",
            "epoch is 22\n",
            " loss is 3.724\n",
            "epoch is 23\n",
            " loss is 3.720\n",
            "epoch is 24\n",
            " loss is 3.716\n",
            "epoch is 25\n",
            " loss is 3.711\n",
            "[1, 2, 3, 4, 5, 6, 7, 8, 9, 10, 11, 12, 13, 14, 15, 16, 17, 18, 19, 20, 21, 22, 23, 24, 25]\n"
          ]
        },
        {
          "output_type": "execute_result",
          "data": {
            "text/plain": [
              "[<matplotlib.lines.Line2D at 0x7f62fa7e2220>]"
            ]
          },
          "metadata": {},
          "execution_count": 63
        },
        {
          "output_type": "display_data",
          "data": {
            "text/plain": [
              "<Figure size 720x480 with 1 Axes>"
            ],
            "image/png": "[encoded data removed]"
          },
          "metadata": {
            "needs_background": "light"
          }
        }
      ]
    },
    {
      "cell_type": "code",
      "source": [
        "test_accuracy,test_loss = test_method(model_relu_5_l1)"
      ],
      "metadata": {
        "colab": {
          "base_uri": "https://localhost:8080/"
        },
        "id": "s9Hycrfb_ua3",
        "outputId": "e2328a47-615d-4389-8c88-24e3c4bdf5b6"
      },
      "execution_count": 58,
      "outputs": [
        {
          "output_type": "stream",
          "name": "stdout",
          "text": [
            "test accuracy = 8.98876404494382\n"
          ]
        }
      ]
    },
    {
      "cell_type": "code",
      "source": [
        "num_epochs = 25\n",
        "loss_val = []\n",
        "x_line = []\n",
        "for epoch in range(num_epochs):\n",
        "  print(f\"epoch is {epoch+1}\")\n",
        "  accuracy, loss = train_method(model_relu_5_l2,0.3,\"L2\")\n",
        "  print(f\" loss is {loss*100:.3f}\")\n",
        "  loss_val.append(loss)\n",
        "my_xticks = []\n",
        "for i in range(len(loss_val)):\n",
        "  my_xticks.append(i+1)\n",
        "print(my_xticks)\n",
        "plt.figure(1,dpi=120)\n",
        "plt.title(\"5 Layer Network with Relu Activation\")\n",
        "plt.xlabel(\"epoch\")\n",
        "plt.ylabel(\"loss\")\n",
        "plt.xscale(\"linear\")\n",
        "plt.yscale(\"linear\")\n",
        "x = np.array(np.arange(0, len(my_xticks), 1))\n",
        "plt.xticks(x, my_xticks)\n",
        "plt.plot(my_xticks,loss_val)"
      ],
      "metadata": {
        "colab": {
          "base_uri": "https://localhost:8080/",
          "height": 1000
        },
        "id": "b1hUKETmbY0c",
        "outputId": "96725d5e-04d1-4998-ed89-b520367565a6"
      },
      "execution_count": 61,
      "outputs": [
        {
          "output_type": "stream",
          "name": "stdout",
          "text": [
            "epoch is 1\n",
            " loss is 3.988\n",
            "epoch is 2\n",
            " loss is 3.984\n",
            "epoch is 3\n",
            " loss is 3.981\n",
            "epoch is 4\n",
            " loss is 3.978\n",
            "epoch is 5\n",
            " loss is 3.975\n",
            "epoch is 6\n",
            " loss is 3.971\n",
            "epoch is 7\n",
            " loss is 3.967\n",
            "epoch is 8\n",
            " loss is 3.963\n",
            "epoch is 9\n",
            " loss is 3.958\n",
            "epoch is 10\n",
            " loss is 3.953\n",
            "epoch is 11\n",
            " loss is 3.949\n",
            "epoch is 12\n",
            " loss is 3.944\n",
            "epoch is 13\n",
            " loss is 3.940\n",
            "epoch is 14\n",
            " loss is 3.936\n",
            "epoch is 15\n",
            " loss is 3.932\n",
            "epoch is 16\n",
            " loss is 3.927\n",
            "epoch is 17\n",
            " loss is 3.921\n",
            "epoch is 18\n",
            " loss is 3.914\n",
            "epoch is 19\n",
            " loss is 3.906\n",
            "epoch is 20\n",
            " loss is 3.896\n",
            "epoch is 21\n",
            " loss is 3.882\n",
            "epoch is 22\n",
            " loss is 3.864\n",
            "epoch is 23\n",
            " loss is 3.838\n",
            "epoch is 24\n",
            " loss is 3.799\n",
            "epoch is 25\n",
            " loss is 3.737\n",
            "[1, 2, 3, 4, 5, 6, 7, 8, 9, 10, 11, 12, 13, 14, 15, 16, 17, 18, 19, 20, 21, 22, 23, 24, 25]\n"
          ]
        },
        {
          "output_type": "execute_result",
          "data": {
            "text/plain": [
              "[<matplotlib.lines.Line2D at 0x7f62fa853190>]"
            ]
          },
          "metadata": {},
          "execution_count": 61
        },
        {
          "output_type": "display_data",
          "data": {
            "text/plain": [
              "<Figure size 720x480 with 1 Axes>"
            ],
            "image/png": "[encoded data removed]"
          },
          "metadata": {
            "needs_background": "light"
          }
        }
      ]
    },
    {
      "cell_type": "code",
      "source": [
        "test_accuracy,test_loss = test_method(model_relu_5_l2)"
      ],
      "metadata": {
        "colab": {
          "base_uri": "https://localhost:8080/"
        },
        "id": "UD3unLDicI4v",
        "outputId": "835bf1f3-9f23-4dc4-f3ea-4e112b090382"
      },
      "execution_count": 62,
      "outputs": [
        {
          "output_type": "stream",
          "name": "stdout",
          "text": [
            "test accuracy = 17.97752808988764\n"
          ]
        }
      ]
    },
    {
      "cell_type": "code",
      "source": [],
      "metadata": {
        "id": "nxbIAVmvcKWG"
      },
      "execution_count": null,
      "outputs": []
    }
  ]
}